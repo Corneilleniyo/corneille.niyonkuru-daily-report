{
 "cells": [
  {
   "cell_type": "markdown",
   "id": "708d2d39-3bbe-4c7b-ad24-dc7723427cf8",
   "metadata": {},
   "source": [
    "### Exercise 1:\n",
    "Create a NumPy array of integers from 1 to 10."
   ]
  },
  {
   "cell_type": "code",
   "execution_count": 105,
   "id": "0747ddde-174f-48f2-8c28-47ef6e501b83",
   "metadata": {},
   "outputs": [
    {
     "name": "stdout",
     "output_type": "stream",
     "text": [
      "[ 1  2  3  4  5  6  7  8  9 10]\n"
     ]
    }
   ],
   "source": [
    " import numpy as np\n",
    "t=np.arange(1,10+1)\n",
    "print(t)"
   ]
  },
  {
   "cell_type": "raw",
   "id": "9b6955e2-2cdd-4e2a-926f-1682af10eb2b",
   "metadata": {},
   "source": [
    "2. Create a 3x3 NumPy array filled with zeros."
   ]
  },
  {
   "cell_type": "code",
   "execution_count": 9,
   "id": "a05aa469-6e0c-4df6-8815-99def8a3a352",
   "metadata": {},
   "outputs": [
    {
     "name": "stdout",
     "output_type": "stream",
     "text": [
      "[[0. 0. 0.]\n",
      " [0. 0. 0.]\n",
      " [0. 0. 0.]]\n"
     ]
    }
   ],
   "source": [
    "t_zeros=np.zeros((3,3))\n",
    "print(t_zeros)"
   ]
  },
  {
   "cell_type": "markdown",
   "id": "f4f127ed-9c66-4c54-b48d-201518f16da5",
   "metadata": {},
   "source": [
    "### Exercise 3:\n",
    "Create a NumPy array of 10 evenly spaced numbers between 0 and 5.\n",
    "\n",
    "```python"
   ]
  },
  {
   "cell_type": "code",
   "execution_count": 14,
   "id": "3d20ba48-6450-42e1-b81e-a14c27fc9676",
   "metadata": {},
   "outputs": [
    {
     "name": "stdout",
     "output_type": "stream",
     "text": [
      "[0.         0.55555556 1.11111111 1.66666667 2.22222222 2.77777778\n",
      " 3.33333333 3.88888889 4.44444444 5.        ]\n"
     ]
    }
   ],
   "source": [
    "t_evenly=np.linspace(0,5,10)\n",
    "print(t_evenly)"
   ]
  },
  {
   "cell_type": "markdown",
   "id": "d0467999-e4c6-4753-8885-8f15814a1d7e",
   "metadata": {},
   "source": [
    "### Exercise 4:\n",
    "Create a 5x5 identity matrix using NumPy."
   ]
  },
  {
   "cell_type": "code",
   "execution_count": 16,
   "id": "b86dfd71-a34b-4909-a7e0-e42cb91f17aa",
   "metadata": {},
   "outputs": [
    {
     "name": "stdout",
     "output_type": "stream",
     "text": [
      "[[1. 0. 0. 0. 0.]\n",
      " [0. 1. 0. 0. 0.]\n",
      " [0. 0. 1. 0. 0.]\n",
      " [0. 0. 0. 1. 0.]\n",
      " [0. 0. 0. 0. 1.]]\n"
     ]
    }
   ],
   "source": [
    "t_ident=np.eye((5))\n",
    "print(t_ident)"
   ]
  },
  {
   "cell_type": "markdown",
   "id": "ecdacf11-61ef-45ac-8b72-8eeca239f39f",
   "metadata": {},
   "source": [
    "### Exercise 5:\n",
    "Create a 4x4 matrix with random values between 0 and 1."
   ]
  },
  {
   "cell_type": "code",
   "execution_count": 24,
   "id": "fdb2a543-785f-4b31-9aec-1e535e8758b9",
   "metadata": {},
   "outputs": [
    {
     "data": {
      "text/plain": [
       "array([[0.5488135 , 0.71518937, 0.60276338, 0.54488318],\n",
       "       [0.4236548 , 0.64589411, 0.43758721, 0.891773  ],\n",
       "       [0.96366276, 0.38344152, 0.79172504, 0.52889492],\n",
       "       [0.56804456, 0.92559664, 0.07103606, 0.0871293 ]])"
      ]
     },
     "execution_count": 24,
     "metadata": {},
     "output_type": "execute_result"
    }
   ],
   "source": [
    "a=np.random.seed(0)\n",
    "a=np.random.rand(4,4)\n",
    "a"
   ]
  },
  {
   "cell_type": "markdown",
   "id": "e173bcbf-1213-490c-8340-705a3158b6d1",
   "metadata": {},
   "source": [
    "\n",
    "### Exercise 6:\n",
    "Find the shape of a NumPy array."
   ]
  },
  {
   "cell_type": "code",
   "execution_count": 25,
   "id": "8595d865-72b9-4628-b7e7-a10f4d2905e2",
   "metadata": {},
   "outputs": [
    {
     "data": {
      "text/plain": [
       "(4, 4)"
      ]
     },
     "execution_count": 25,
     "metadata": {},
     "output_type": "execute_result"
    }
   ],
   "source": [
    "a.shape"
   ]
  },
  {
   "cell_type": "markdown",
   "id": "0dbec9f1-a018-4831-b9c8-84e4c2e20c3d",
   "metadata": {},
   "source": [
    "### Exercise 7:\n",
    "Reshape a 1D NumPy array of 16 elements into a 4x4 matrix."
   ]
  },
  {
   "cell_type": "code",
   "execution_count": 107,
   "id": "15515fca-0df0-41dc-9002-09ae170f949d",
   "metadata": {},
   "outputs": [
    {
     "data": {
      "text/plain": [
       "array([ 0,  1,  2,  3,  4,  5,  6,  7,  8,  9, 10, 11, 12, 13, 14, 15])"
      ]
     },
     "execution_count": 107,
     "metadata": {},
     "output_type": "execute_result"
    }
   ],
   "source": [
    "b=np.arange(16)\n",
    "b"
   ]
  },
  {
   "cell_type": "code",
   "execution_count": 110,
   "id": "3f719087-f06f-47b2-bfcd-a511bb36e0be",
   "metadata": {},
   "outputs": [
    {
     "data": {
      "text/plain": [
       "array([[ 0,  1,  2,  3],\n",
       "       [ 4,  5,  6,  7],\n",
       "       [ 8,  9, 10, 11],\n",
       "       [12, 13, 14, 15]])"
      ]
     },
     "execution_count": 110,
     "metadata": {},
     "output_type": "execute_result"
    }
   ],
   "source": [
    "b=b.reshape((4,4))\n",
    "b"
   ]
  },
  {
   "cell_type": "markdown",
   "id": "cd22a051-e766-48bc-9ff8-e36f27162b04",
   "metadata": {},
   "source": [
    "### Exercise 8:\n",
    "Find the data type of the elements in a NumPy array."
   ]
  },
  {
   "cell_type": "code",
   "execution_count": 113,
   "id": "926e1b4a-8dbc-4cb7-a86f-3ae50bb455a8",
   "metadata": {},
   "outputs": [
    {
     "data": {
      "text/plain": [
       "dtype('int32')"
      ]
     },
     "execution_count": 113,
     "metadata": {},
     "output_type": "execute_result"
    }
   ],
   "source": [
    "b.dtype"
   ]
  },
  {
   "cell_type": "markdown",
   "id": "33da6e5c-4d11-4f42-822f-db83b8ce5e98",
   "metadata": {},
   "source": [
    "### Exercise 9:\n",
    "Create a NumPy array of integers from 1 to 100 and find all even numbers in the array."
   ]
  },
  {
   "cell_type": "code",
   "execution_count": 33,
   "id": "e612c522-1a28-4292-82c2-f3636235422f",
   "metadata": {},
   "outputs": [
    {
     "data": {
      "text/plain": [
       "array([  2,   4,   6,   8,  10,  12,  14,  16,  18,  20,  22,  24,  26,\n",
       "        28,  30,  32,  34,  36,  38,  40,  42,  44,  46,  48,  50,  52,\n",
       "        54,  56,  58,  60,  62,  64,  66,  68,  70,  72,  74,  76,  78,\n",
       "        80,  82,  84,  86,  88,  90,  92,  94,  96,  98, 100])"
      ]
     },
     "execution_count": 33,
     "metadata": {},
     "output_type": "execute_result"
    }
   ],
   "source": [
    "b=np.arange(2,102,2)\n",
    "b"
   ]
  },
  {
   "cell_type": "code",
   "execution_count": 38,
   "id": "84cf33c3-6ca6-4e75-a49a-cd0c45cfd265",
   "metadata": {},
   "outputs": [
    {
     "data": {
      "text/plain": [
       "[0,\n",
       " 2,\n",
       " 4,\n",
       " 6,\n",
       " 8,\n",
       " 10,\n",
       " 12,\n",
       " 14,\n",
       " 16,\n",
       " 18,\n",
       " 20,\n",
       " 22,\n",
       " 24,\n",
       " 26,\n",
       " 28,\n",
       " 30,\n",
       " 32,\n",
       " 34,\n",
       " 36,\n",
       " 38,\n",
       " 40,\n",
       " 42,\n",
       " 44,\n",
       " 46,\n",
       " 48,\n",
       " 50,\n",
       " 52,\n",
       " 54,\n",
       " 56,\n",
       " 58,\n",
       " 60,\n",
       " 62,\n",
       " 64,\n",
       " 66,\n",
       " 68,\n",
       " 70,\n",
       " 72,\n",
       " 74,\n",
       " 76,\n",
       " 78,\n",
       " 80,\n",
       " 82,\n",
       " 84,\n",
       " 86,\n",
       " 88,\n",
       " 90,\n",
       " 92,\n",
       " 94,\n",
       " 96,\n",
       " 98]"
      ]
     },
     "execution_count": 38,
     "metadata": {},
     "output_type": "execute_result"
    }
   ],
   "source": [
    "b=[x for x in np.arange(100) if x%2==0]\n",
    "b"
   ]
  },
  {
   "cell_type": "markdown",
   "id": "e80198f4-5aa7-49f3-9742-b23e62227960",
   "metadata": {},
   "source": [
    "### Exercise 10:\n",
    "Generate a 6x6 matrix of random integers between 10 and 50."
   ]
  },
  {
   "cell_type": "code",
   "execution_count": 41,
   "id": "2d239cc6-abde-459f-885a-f16b0181fa40",
   "metadata": {},
   "outputs": [
    {
     "data": {
      "text/plain": [
       "array([[41, 11, 11, 49, 45, 48],\n",
       "       [21, 28, 37, 10, 24, 45],\n",
       "       [22, 30, 21, 14, 16, 14],\n",
       "       [13, 22, 46, 24, 25, 30],\n",
       "       [45, 33, 25, 23, 31, 15],\n",
       "       [45, 10, 41, 15, 40, 10]])"
      ]
     },
     "execution_count": 41,
     "metadata": {},
     "output_type": "execute_result"
    }
   ],
   "source": [
    "t=np.random.randint(10,50,(6,6))\n",
    "t"
   ]
  },
  {
   "cell_type": "markdown",
   "id": "de332ee1-d87a-4f82-9f49-1266cb336481",
   "metadata": {},
   "source": [
    "### Exercise 11:\n",
    "Slice a 2D NumPy array to extract a submatrix."
   ]
  },
  {
   "cell_type": "code",
   "execution_count": 46,
   "id": "4098dacd-2e79-4705-bb0e-df767b129b02",
   "metadata": {},
   "outputs": [
    {
     "data": {
      "text/plain": [
       "array([[21, 28],\n",
       "       [22, 30]])"
      ]
     },
     "execution_count": 46,
     "metadata": {},
     "output_type": "execute_result"
    }
   ],
   "source": [
    "t[1:3,:2]"
   ]
  },
  {
   "cell_type": "markdown",
   "id": "5b23fdde-5be8-4883-865c-3384692d2cbd",
   "metadata": {},
   "source": [
    "### Exercise 12:\n",
    "Calculate the sum of all elements in a NumPy array."
   ]
  },
  {
   "cell_type": "code",
   "execution_count": 49,
   "id": "28a15f1d-e867-48ce-9d1d-b6320b23db03",
   "metadata": {},
   "outputs": [
    {
     "name": "stdout",
     "output_type": "stream",
     "text": [
      "[0 1 2 3 4 5 6 7 8 9]\n",
      "45\n"
     ]
    }
   ],
   "source": [
    "t=np.arange(10)\n",
    "print(t)\n",
    "b=sum(t)\n",
    "print(b)"
   ]
  },
  {
   "cell_type": "markdown",
   "id": "6a318f70-6b14-4c99-9df6-adbc41c2931e",
   "metadata": {},
   "source": [
    "### Exercise 13:\n",
    "Calculate the mean, median, and standard deviation of a NumPy array."
   ]
  },
  {
   "cell_type": "code",
   "execution_count": 50,
   "id": "c1b3d8f3-ab25-45c6-b35a-18f19067448e",
   "metadata": {},
   "outputs": [
    {
     "data": {
      "text/plain": [
       "4.5"
      ]
     },
     "execution_count": 50,
     "metadata": {},
     "output_type": "execute_result"
    }
   ],
   "source": [
    "m=np.mean(t)\n",
    "m"
   ]
  },
  {
   "cell_type": "code",
   "execution_count": 52,
   "id": "699a74ed-1f94-4217-a3a3-2a2b1b29ae3b",
   "metadata": {},
   "outputs": [
    {
     "data": {
      "text/plain": [
       "4.5"
      ]
     },
     "execution_count": 52,
     "metadata": {},
     "output_type": "execute_result"
    }
   ],
   "source": [
    "md=np.median(t)\n",
    "md"
   ]
  },
  {
   "cell_type": "code",
   "execution_count": 53,
   "id": "d13329a1-e4fa-4f93-bf07-7ba3811e9790",
   "metadata": {},
   "outputs": [
    {
     "data": {
      "text/plain": [
       "2.8722813232690143"
      ]
     },
     "execution_count": 53,
     "metadata": {},
     "output_type": "execute_result"
    }
   ],
   "source": [
    "sd=np.std(t)\n",
    "sd"
   ]
  },
  {
   "cell_type": "markdown",
   "id": "9cec43c6-d0b2-4494-b69c-b6fe49125f06",
   "metadata": {},
   "source": [
    "### Exercise 14:\n",
    "Find the maximum and minimum values in a NumPy array."
   ]
  },
  {
   "cell_type": "code",
   "execution_count": 54,
   "id": "0b54cfa2-e4a5-4cdf-92e8-33e9378bcd0e",
   "metadata": {},
   "outputs": [
    {
     "data": {
      "text/plain": [
       "9"
      ]
     },
     "execution_count": 54,
     "metadata": {},
     "output_type": "execute_result"
    }
   ],
   "source": [
    "ma=np.max(t)\n",
    "ma"
   ]
  },
  {
   "cell_type": "code",
   "execution_count": 56,
   "id": "698d3b7e-4aea-444a-8d14-16b7c20b435a",
   "metadata": {},
   "outputs": [
    {
     "data": {
      "text/plain": [
       "0"
      ]
     },
     "execution_count": 56,
     "metadata": {},
     "output_type": "execute_result"
    }
   ],
   "source": [
    "mi=np.min(t)\n",
    "mi"
   ]
  },
  {
   "cell_type": "markdown",
   "id": "f4647938-9e7b-4222-9d51-8906ee6827dd",
   "metadata": {},
   "source": [
    "### Exercise 15:\n",
    "Create a NumPy array of 20 random integers and find the index of the maximum value."
   ]
  },
  {
   "cell_type": "code",
   "execution_count": 62,
   "id": "60c7166f-bcd0-415c-8fe8-836242ab2e06",
   "metadata": {},
   "outputs": [
    {
     "data": {
      "text/plain": [
       "9"
      ]
     },
     "execution_count": 62,
     "metadata": {},
     "output_type": "execute_result"
    }
   ],
   "source": [
    "ar_int=np.random.randint(10,20,size=20)\n",
    "y=np.argmax(t)\n",
    "y"
   ]
  },
  {
   "cell_type": "markdown",
   "id": "24c4eeaf-bad7-4198-b922-de327675a048",
   "metadata": {},
   "source": [
    "### Exercise 16:\n",
    "Create a NumPy array and reverse its elements."
   ]
  },
  {
   "cell_type": "code",
   "execution_count": 63,
   "id": "e2aac19a-1e4b-482a-98ad-29c7721ec47f",
   "metadata": {},
   "outputs": [
    {
     "data": {
      "text/plain": [
       "array([ 0,  1,  2,  3,  4,  5,  6,  7,  8,  9, 10, 11, 12, 13, 14])"
      ]
     },
     "execution_count": 63,
     "metadata": {},
     "output_type": "execute_result"
    }
   ],
   "source": [
    "j=np.arange(15)\n",
    "j"
   ]
  },
  {
   "cell_type": "code",
   "execution_count": 67,
   "id": "e5722e20-2236-43c0-97d5-427799b4b7bb",
   "metadata": {},
   "outputs": [
    {
     "data": {
      "text/plain": [
       "array([14, 13, 12, 11, 10,  9,  8,  7,  6,  5,  4,  3,  2,  1,  0])"
      ]
     },
     "execution_count": 67,
     "metadata": {},
     "output_type": "execute_result"
    }
   ],
   "source": [
    "np.flip(j)\n"
   ]
  },
  {
   "cell_type": "markdown",
   "id": "84c20f6c-15f7-42e7-ac8f-c13601e19d18",
   "metadata": {},
   "source": [
    "### Exercise 17:\n",
    "Create a 3x3 matrix and multiply it element-wise by another 3x3 matrix."
   ]
  },
  {
   "cell_type": "code",
   "execution_count": 68,
   "id": "20e3dfeb-01ea-4a55-b74d-14e5e713e7db",
   "metadata": {},
   "outputs": [
    {
     "data": {
      "text/plain": [
       "array([[ 60,  42,  11],\n",
       "       [135, 126,  68],\n",
       "       [171,  33, 171]])"
      ]
     },
     "execution_count": 68,
     "metadata": {},
     "output_type": "execute_result"
    }
   ],
   "source": [
    "t=np.random.randint(1,10,(3,3))\n",
    "y=np.random.randint(11,20,(3,3))\n",
    "t*y"
   ]
  },
  {
   "cell_type": "markdown",
   "id": "4a2e055a-0af7-411e-8927-9a749fbc58c1",
   "metadata": {},
   "source": [
    "### Exercise 18:\n",
    "Create a diagonal matrix from a given 1D array.\n"
   ]
  },
  {
   "cell_type": "code",
   "execution_count": 72,
   "id": "41782061-0949-4664-8713-090d700405d4",
   "metadata": {},
   "outputs": [
    {
     "data": {
      "text/plain": [
       "array([ 0,  1,  2,  3,  4,  5,  6,  7,  8,  9, 10, 11])"
      ]
     },
     "execution_count": 72,
     "metadata": {},
     "output_type": "execute_result"
    }
   ],
   "source": [
    "g=np.arange(12)\n",
    "g"
   ]
  },
  {
   "cell_type": "code",
   "execution_count": 73,
   "id": "28c96475-bc40-4396-b6cb-c5e9c70a439f",
   "metadata": {},
   "outputs": [
    {
     "data": {
      "text/plain": [
       "array([[ 0,  0,  0,  0,  0,  0,  0,  0,  0,  0,  0,  0],\n",
       "       [ 0,  1,  0,  0,  0,  0,  0,  0,  0,  0,  0,  0],\n",
       "       [ 0,  0,  2,  0,  0,  0,  0,  0,  0,  0,  0,  0],\n",
       "       [ 0,  0,  0,  3,  0,  0,  0,  0,  0,  0,  0,  0],\n",
       "       [ 0,  0,  0,  0,  4,  0,  0,  0,  0,  0,  0,  0],\n",
       "       [ 0,  0,  0,  0,  0,  5,  0,  0,  0,  0,  0,  0],\n",
       "       [ 0,  0,  0,  0,  0,  0,  6,  0,  0,  0,  0,  0],\n",
       "       [ 0,  0,  0,  0,  0,  0,  0,  7,  0,  0,  0,  0],\n",
       "       [ 0,  0,  0,  0,  0,  0,  0,  0,  8,  0,  0,  0],\n",
       "       [ 0,  0,  0,  0,  0,  0,  0,  0,  0,  9,  0,  0],\n",
       "       [ 0,  0,  0,  0,  0,  0,  0,  0,  0,  0, 10,  0],\n",
       "       [ 0,  0,  0,  0,  0,  0,  0,  0,  0,  0,  0, 11]])"
      ]
     },
     "execution_count": 73,
     "metadata": {},
     "output_type": "execute_result"
    }
   ],
   "source": [
    "np.diag(g)"
   ]
  },
  {
   "cell_type": "markdown",
   "id": "0178107a-6fa0-4dfb-af22-7bc6d3e514bc",
   "metadata": {},
   "source": [
    "### Exercise 19:\n",
    "Perform matrix multiplication on two 2D NumPy arrays.\n"
   ]
  },
  {
   "cell_type": "code",
   "execution_count": 76,
   "id": "548d6187-3fa6-4695-a31d-cef884da0822",
   "metadata": {},
   "outputs": [
    {
     "name": "stdout",
     "output_type": "stream",
     "text": [
      "[[4 2]\n",
      " [3 2]] \t\n",
      "[[9 7]\n",
      " [9 6]] \t\n",
      "[[54 40]\n",
      " [45 33]]\n"
     ]
    }
   ],
   "source": [
    "m1=np.random.randint(1,5,(2,2))\n",
    "print(m1,\"\\t\")\n",
    "m2=np.random.randint(6,10,(2,2))\n",
    "print(m2,\"\\t\")\n",
    "p=m1.dot(m2)\n",
    "print(p)\n"
   ]
  },
  {
   "cell_type": "code",
   "execution_count": 78,
   "id": "5535ba3c-84f7-4898-9e37-fb3b4a633076",
   "metadata": {},
   "outputs": [
    {
     "data": {
      "text/plain": [
       "array([[36, 14],\n",
       "       [27, 12]])"
      ]
     },
     "execution_count": 78,
     "metadata": {},
     "output_type": "execute_result"
    }
   ],
   "source": [
    "b=np.multiply(m1,m2)\n",
    "b"
   ]
  },
  {
   "cell_type": "markdown",
   "id": "e83cee80-0ce4-4a99-85ad-1142a07d199d",
   "metadata": {},
   "source": [
    "### Exercise 20:\n",
    "Flatten a 2D NumPy array into a 1D array."
   ]
  },
  {
   "cell_type": "code",
   "execution_count": 81,
   "id": "d7cc5122-99f0-4cf7-a924-06c6141222ea",
   "metadata": {},
   "outputs": [
    {
     "data": {
      "text/plain": [
       "array([ 0,  1,  2,  3,  4,  5,  6,  7,  8,  9, 10, 11])"
      ]
     },
     "execution_count": 81,
     "metadata": {},
     "output_type": "execute_result"
    }
   ],
   "source": [
    "h=np.arange(12)\n",
    "h"
   ]
  },
  {
   "cell_type": "code",
   "execution_count": 85,
   "id": "a2473c81-7a9b-451b-a1c8-91df5210771c",
   "metadata": {},
   "outputs": [
    {
     "data": {
      "text/plain": [
       "array([36, 14, 27, 12])"
      ]
     },
     "execution_count": 85,
     "metadata": {},
     "output_type": "execute_result"
    }
   ],
   "source": [
    "b.flatten()"
   ]
  },
  {
   "cell_type": "markdown",
   "id": "db519f63-3e92-4f6f-a2d2-e9d2ca831b06",
   "metadata": {},
   "source": [
    "### Exercise 21:\n",
    "Stack two NumPy arrays vertically"
   ]
  },
  {
   "cell_type": "code",
   "execution_count": 94,
   "id": "d0d8d9dd-2c6c-4c8b-89a0-1feca8f3b7ea",
   "metadata": {},
   "outputs": [
    {
     "name": "stdout",
     "output_type": "stream",
     "text": [
      "[[ 2  3  4  5  6  7  8  9 10 11]\n",
      " [22 23 24 25 26 27 28 29 30 31]]\n"
     ]
    }
   ],
   "source": [
    "a1=np.arange(2,12)\n",
    "q2=np.arange(22,32)\n",
    "print(np.vstack((a1,q2)))"
   ]
  },
  {
   "cell_type": "markdown",
   "id": "6a49c4f9-00de-439e-9f09-142b935da51a",
   "metadata": {},
   "source": [
    "### Exercise 22:\n",
    "Stack two NumPy arrays horizontally."
   ]
  },
  {
   "cell_type": "code",
   "execution_count": 98,
   "id": "3bd99f2e-0ef5-4356-b116-1df9e7abebf7",
   "metadata": {},
   "outputs": [
    {
     "name": "stdout",
     "output_type": "stream",
     "text": [
      "[ 2  3  4  5  6  7  8  9 10 11 22 23 24 25 26 27 28 29 30 31]\n"
     ]
    }
   ],
   "source": [
    "print(np.hstack((a1,q2)))"
   ]
  },
  {
   "cell_type": "markdown",
   "id": "bde76c34-c7d4-4697-9195-49b39d1fa6eb",
   "metadata": {},
   "source": [
    "### Exercise 23:\n",
    "Split a NumPy array into multiple sub-arrays."
   ]
  },
  {
   "cell_type": "code",
   "execution_count": 104,
   "id": "fe43d129-de7a-4c52-8692-cb3110190b4a",
   "metadata": {},
   "outputs": [
    {
     "data": {
      "text/plain": [
       "[array([6, 9, 3, 4, 8]), array([6, 4, 5, 6, 4])]"
      ]
     },
     "execution_count": 104,
     "metadata": {},
     "output_type": "execute_result"
    }
   ],
   "source": [
    "#x=np.arange(1,12)\n",
    "x1=np.random.randint(1,10,size=10)\n",
    "np.split(x1,2)"
   ]
  },
  {
   "cell_type": "markdown",
   "id": "100d35dd-a0d4-4989-8208-66d4c5f11b57",
   "metadata": {},
   "source": [
    "### Exercise 24:\n",
    "Generate a random NumPy array and round each element to two decimal places."
   ]
  },
  {
   "cell_type": "code",
   "execution_count": 115,
   "id": "2b4943de-4c72-4711-831d-7a6df4c13217",
   "metadata": {},
   "outputs": [
    {
     "name": "stdout",
     "output_type": "stream",
     "text": [
      "[[0.41 0.07 0.7  0.45 0.72 0.87 0.98 0.86 0.01 0.36]]\n"
     ]
    }
   ],
   "source": [
    "print(np.round(np.random.rand(1,10,),2))"
   ]
  },
  {
   "cell_type": "markdown",
   "id": "c4b7a41e-43d9-4110-9370-74680ca4c2c1",
   "metadata": {},
   "source": [
    "### Exercise 25:\n",
    "Find the unique elements of a NumPy array."
   ]
  },
  {
   "cell_type": "code",
   "execution_count": 116,
   "id": "b4c202da-0c24-401e-bc4c-fd7f65ef4734",
   "metadata": {},
   "outputs": [
    {
     "data": {
      "text/plain": [
       "array([ 0,  1,  2,  3,  4,  5,  7, 23, 40, 56])"
      ]
     },
     "execution_count": 116,
     "metadata": {},
     "output_type": "execute_result"
    }
   ],
   "source": [
    "t= np.array([1, 0, 0, 5, 56,7, 1, 0, 0, 5, 56,7, 23, 2, 3, 4, 40,40])\n",
    "np.unique(t)"
   ]
  },
  {
   "cell_type": "markdown",
   "id": "f8ff18bb-2dd1-46df-89b5-3a2dc8f2bcf5",
   "metadata": {},
   "source": [
    "### Exercise 26:\n",
    "Replace all elements in a NumPy array that are less than a specific value with that value."
   ]
  },
  {
   "cell_type": "code",
   "execution_count": 117,
   "id": "f2199ed5-73e7-4f08-a46f-bcf197b2f29c",
   "metadata": {},
   "outputs": [
    {
     "data": {
      "text/plain": [
       "array([6, 2, 5, 3, 3])"
      ]
     },
     "execution_count": 117,
     "metadata": {},
     "output_type": "execute_result"
    }
   ],
   "source": [
    "g=np.random.randint(1,9,size=5)\n",
    "g"
   ]
  },
  {
   "cell_type": "code",
   "execution_count": 118,
   "id": "be3ea124-64d3-439d-a78e-adf94ef627c2",
   "metadata": {},
   "outputs": [
    {
     "data": {
      "text/plain": [
       "array([[  1, 200, 200,   5,  56,   7],\n",
       "       [  1, 200, 200,   5,  56,   7],\n",
       "       [ 23,   2,   3,   4,  40,  40]])"
      ]
     },
     "execution_count": 118,
     "metadata": {},
     "output_type": "execute_result"
    }
   ],
   "source": [
    "u= np.array([[1, 0, 0, 5, 56,7], [1, 0, 0, 5, 56,7], [23, 2, 3, 4, 40,40]])\n",
    "u[u<=0]=200\n",
    "u"
   ]
  },
  {
   "cell_type": "code",
   "execution_count": null,
   "id": "06ca4186-691f-48f1-b14a-62856d23bd49",
   "metadata": {},
   "outputs": [],
   "source": []
  }
 ],
 "metadata": {
  "kernelspec": {
   "display_name": "Python 3 (ipykernel)",
   "language": "python",
   "name": "python3"
  },
  "language_info": {
   "codemirror_mode": {
    "name": "ipython",
    "version": 3
   },
   "file_extension": ".py",
   "mimetype": "text/x-python",
   "name": "python",
   "nbconvert_exporter": "python",
   "pygments_lexer": "ipython3",
   "version": "3.12.4"
  }
 },
 "nbformat": 4,
 "nbformat_minor": 5
}
