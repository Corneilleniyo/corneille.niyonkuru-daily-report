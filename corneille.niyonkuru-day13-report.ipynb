{
 "cells": [
  {
   "cell_type": "markdown",
   "id": "d43051b8-64b8-472a-b82a-b3bc3e26e008",
   "metadata": {},
   "source": [
    "# PyPro: Challenge 3\r\n",
    "\r\n",
    "### This challenge is due on Saturday, October 10th, 2024, at 8pm.\r\n",
    "\r\n",
    "`These exercises offer a diverse array of tasks that assess your comprehension of fundamental Python concepts such as loops, data types, string manipulations, list comprehensions, and higher-order functions.`\r\n"
   ]
  },
  {
   "cell_type": "markdown",
   "id": "477fc581-0e6d-436f-8502-7c73ab82e4ce",
   "metadata": {},
   "source": [
    "1. **Perfect Numbers Calculation**  \r\n",
    "   By definition, a natural number is called a perfect number if its value is equal to the sum of its divisors. For example, 6 and 28 are perfect numbers:\r\n",
    "   \r\n",
    "   ```\r\n",
    "   1 + 2 + 3 = 6\r\n",
    "   1 + 2 + 4 + 7 + 14\n",
    "   ```\r\n",
    "   \r\n",
    "   Write a function `calc_perfect_numbers(max_exclusive)` that calculates all perfect numbers up to a maximum value, such as 10,000. = 28"
   ]
  },
  {
   "cell_type": "code",
   "execution_count": 22,
   "id": "3b542ee7-10a6-4f09-9d5c-52d253abd355",
   "metadata": {},
   "outputs": [
    {
     "data": {
      "text/plain": [
       "[6, 28, 496, 8128]"
      ]
     },
     "execution_count": 22,
     "metadata": {},
     "output_type": "execute_result"
    }
   ],
   "source": [
    "def calc_perfect_numbers(max_exclusive):\n",
    "    sm=0\n",
    "    lst_perfect=[]\n",
    "    for i in range(1,max_exclusive+1):\n",
    "        for j in range (1,i):  \n",
    "            if i%j==0:\n",
    "                sm+=j\n",
    "        if sm==i:\n",
    "           lst_perfect.append(i) \n",
    "        sm = 0\n",
    "    return lst_perfect\n",
    "calc_perfect_numbers(10000)\n"
   ]
  },
  {
   "cell_type": "markdown",
   "id": "413ecb7d-f739-45d7-a445-b66148b84fa8",
   "metadata": {},
   "source": [
    "2. **Prime Numbers Calculation**  \r\n",
    "   Write a function `calc_primes_up_to(max_value)` to compute all prime numbers up to a given value. A prime number is a natural number greater than 1 that is only divisible by 1 and itself. The Sieve of Eratosthenes is a useful algorithm for this task.  \r\n",
    "   Test your algorithm with the following values:\r\n",
    "   \r\n",
    "   | Input | Result                                      |\r\n",
    "   |-------|---------------------------------------------|\r\n",
    "   | 15    | [2, 3, 5, 7, 11, 13]                        |\r\n",
    "   | 25    | [2, 3, 5, 7, 11, 13, 17, 19, 23]            |\r\n",
    "   | 50    | [2, 3, 5, 7, 11, 13, 17, 19, 23, 29, 31...] |\r\n"
   ]
  },
  {
   "cell_type": "code",
   "execution_count": 53,
   "id": "ebf18595-31d6-4403-bafd-f72f4262c371",
   "metadata": {},
   "outputs": [
    {
     "data": {
      "text/plain": [
       "[2, 3, 5, 7, 11, 13, 17, 19, 23, 29, 31, 37, 41, 43, 47]"
      ]
     },
     "execution_count": 53,
     "metadata": {},
     "output_type": "execute_result"
    }
   ],
   "source": [
    "def calc_primes_up_to(max_value):\n",
    "    prime=[]\n",
    "    for i in range(2,max_value+1):\n",
    "        isprime=True \n",
    "        for j in range(2,i):\n",
    "            if i%j==0:\n",
    "                isprime=False\n",
    "                break\n",
    "        if isprime==True:\n",
    "            prime.append(i)           \n",
    "    return prime \n",
    "calc_primes_up_to(50)    "
   ]
  },
  {
   "cell_type": "markdown",
   "id": "9b78ced6-ac37-406f-966c-54ea62f7472d",
   "metadata": {},
   "source": [
    "3. **Twin, Cousin, and Sexy Prime Numbers**  \r\n",
    "   Compute all pairs of prime numbers with a distance of 2 (twin), 4 (cousin), and 6 (sexy) up to an upper bound `n`.  \r\n",
    "   For example, for `limit=50`, the expected results are:\r\n",
    "   \r\n",
    "   - **Twins**: `{3: 5, 5: 7, 11: 13, 17: 19, 29: 31, 41: 43}`\r\n",
    "   - **Cousins**: `{3: 7, 7: 11, 13: 17, 19: 23, 37: 41, 43: 47}`\r\n",
    "   - **Sexy**: `{5: 11, 7: 13, 11: 17, 13: 19, 17: 23, 23: 29, 31: 37, 37: 43, 41: 47, 47: 53}`\r\n"
   ]
  },
  {
   "cell_type": "code",
   "execution_count": 68,
   "id": "8bf804fa-94d9-4a67-8e24-6849b7507baa",
   "metadata": {},
   "outputs": [
    {
     "name": "stdout",
     "output_type": "stream",
     "text": [
      "Twin=  {3: 5, 5: 7, 11: 13, 17: 19, 29: 31, 41: 43}\n",
      "Tousin= {3: 7, 7: 11, 13: 17, 19: 23, 37: 41, 43: 47}\n",
      "Texy= {5: 11, 7: 13, 11: 17, 13: 19, 17: 23, 23: 29, 31: 37, 37: 43, 41: 47}\n"
     ]
    }
   ],
   "source": [
    "twin, cousin, sexy = {}, {}, {}\n",
    "for i in calc_primes_up_to(50):\n",
    "    for j in range(len(calc_primes_up_to(50))): # use above function calc_primes_up_to(max_value) \n",
    "        \n",
    "        if calc_primes_up_to(50)[j]-i==2:\n",
    "            twin[i]=calc_primes_up_to(50)[j]\n",
    "            \n",
    "        if calc_primes_up_to(50)[j]-i==4:\n",
    "            cousin[i]=calc_primes_up_to(50)[j]\n",
    "            \n",
    "        if calc_primes_up_to(50)[j]-i==6:\n",
    "            sexy[i]=calc_primes_up_to(50)[j]\n",
    "            \n",
    "print('Twin= ',twin)\n",
    "print('Tousin=',cousin)\n",
    "print('Texy=',sexy)"
   ]
  },
  {
   "cell_type": "markdown",
   "id": "3c02cccc-1a9f-4fa6-b9d3-60ba42bfa1fc",
   "metadata": {},
   "source": [
    "4. **Sum of Digits (Recursive)**  \r\n",
    "   Write a recursive function `calc_sum_of_digits(value)` that calculates the sum of the digits of a given number.  \r\n",
    "   Examples:\r\n",
    "   \r\n",
    "   | Input  | Number of Digits | Cross Sum         |\r\n",
    "   |--------|------------------|-------------------|\r\n",
    "   | 1234   | 4                | 1 + 2 + 3 + 4 = 10|\r\n",
    "   | 1234567| 7                | 1 + 2 + 3 + ... 7 = 28|"
   ]
  },
  {
   "cell_type": "code",
   "execution_count": 2,
   "id": "65c8dbd9-2e75-4073-bb07-2a4139bf36c4",
   "metadata": {},
   "outputs": [
    {
     "name": "stdin",
     "output_type": "stream",
     "text": [
      "Enter a number:  123\n"
     ]
    },
    {
     "name": "stdout",
     "output_type": "stream",
     "text": [
      "6\n"
     ]
    }
   ],
   "source": [
    "def calc_sum_of_digits(value):\n",
    "    if value == 0:\n",
    "        return 0\n",
    "    return value % 10 + calc_sum_of_digits(value // 10)\n",
    "\n",
    "value = int(input(\"Enter a number: \"))\n",
    "print(calc_sum_of_digits(value))"
   ]
  },
  {
   "cell_type": "markdown",
   "id": "25e8b906-76fc-488e-ad8e-ccc0b4e82b33",
   "metadata": {},
   "source": [
    "5. **Convert to Binary (Recursive)**  \n",
    "   Write a function `to_binary(n)` that recursively converts the given positive integer into its binary string representation (without using `int(x, base)`).  \n",
    "   Examples:\n",
    "   \n",
    "   | Input | Result       |\n",
    "   |-------|--------------|\n",
    "   | 5     | \"101\"        |\n",
    "   | 7     | \"111\"        |\n",
    "   | 22    | \"10110\"      |\n",
    "   | 42    | \"101010\"     |\n",
    "   | 256   | \"100000000\"  |"
   ]
  },
  {
   "cell_type": "code",
   "execution_count": 7,
   "id": "1e6cf53a-ef25-4c7e-a711-2c5b1fdd7ea1",
   "metadata": {},
   "outputs": [
    {
     "name": "stdin",
     "output_type": "stream",
     "text": [
      "Enter a positive integer:  5\n"
     ]
    },
    {
     "data": {
      "text/plain": [
       "'101'"
      ]
     },
     "execution_count": 7,
     "metadata": {},
     "output_type": "execute_result"
    }
   ],
   "source": [
    "def to_binary(n):\n",
    "    if n == 0:\n",
    "        return \"0\"\n",
    "    elif n == 1:\n",
    "        return \"1\"\n",
    "    else:\n",
    "        return to_binary(n // 2) + str(n % 2)\n",
    "\n",
    "n = int(input(\"Enter a positive integer: \"))\n",
    "to_binary(n)\n"
   ]
  },
  {
   "cell_type": "code",
   "execution_count": null,
   "id": "d3d82b4e-e9d1-4ad6-ad98-e294d9ec30d1",
   "metadata": {},
   "outputs": [],
   "source": []
  }
 ],
 "metadata": {
  "kernelspec": {
   "display_name": "Python 3 (ipykernel)",
   "language": "python",
   "name": "python3"
  },
  "language_info": {
   "codemirror_mode": {
    "name": "ipython",
    "version": 3
   },
   "file_extension": ".py",
   "mimetype": "text/x-python",
   "name": "python",
   "nbconvert_exporter": "python",
   "pygments_lexer": "ipython3",
   "version": "3.12.4"
  }
 },
 "nbformat": 4,
 "nbformat_minor": 5
}
