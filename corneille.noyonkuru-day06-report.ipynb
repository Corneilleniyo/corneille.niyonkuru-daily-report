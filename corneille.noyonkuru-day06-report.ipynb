{
 "cells": [
  {
   "cell_type": "markdown",
   "id": "066bf7dc-2235-4fe7-8fa3-8b9947d342f2",
   "metadata": {},
   "source": [
    "**1. Compute the following expressions for a natural number n chosen by the user**"
   ]
  },
  {
   "cell_type": "code",
   "execution_count": 20,
   "id": "c3cb687a-a6b1-4a2d-a0ad-ddd8afa73ed5",
   "metadata": {},
   "outputs": [
    {
     "name": "stdin",
     "output_type": "stream",
     "text": [
      "Enter a natural number:  6\n"
     ]
    },
    {
     "name": "stdout",
     "output_type": "stream",
     "text": [
      "0\n",
      "2\n",
      "4\n",
      "15\n"
     ]
    }
   ],
   "source": [
    "n=int(input(\"Enter a natural number: \"))\n",
    "i=0\n",
    "sm=0\n",
    "for i in range(n):\n",
    "    if i%2==0:\n",
    "        k=i+3  \n",
    "        sm=sm+k\n",
    "print(sm)        \n",
    "        \n",
    "\n",
    "\n"
   ]
  },
  {
   "cell_type": "code",
   "execution_count": 25,
   "id": "a6505acc-8c95-4f05-a988-a92dd66ecaf0",
   "metadata": {},
   "outputs": [
    {
     "name": "stdin",
     "output_type": "stream",
     "text": [
      "Enter a number:  4\n"
     ]
    },
    {
     "name": "stdout",
     "output_type": "stream",
     "text": [
      "24\n"
     ]
    }
   ],
   "source": [
    "np=int(input(\"Enter a number: \"))\n",
    "i=0\n",
    "prd=1\n",
    "for i in range(np):\n",
    "    if i%2!=0:\n",
    "        k=i+3\n",
    "        prd=prd*k\n",
    "print(prd)        "
   ]
  },
  {
   "cell_type": "markdown",
   "id": "09a63ffb-96f3-461e-beba-676ab42119be",
   "metadata": {},
   "source": [
    "**2.Write a program that reads the number of the day of the week (from 0 to 6). If it is a\n",
    "working day, then the program will write the name of the corresponding day. Otherwise,\n",
    "it will write the word \"Weekend\".**"
   ]
  },
  {
   "cell_type": "code",
   "execution_count": 30,
   "id": "d7f8c978-82b8-4c80-88e8-74cb4941d350",
   "metadata": {},
   "outputs": [
    {
     "name": "stdin",
     "output_type": "stream",
     "text": [
      "Enter a number between'0' and '6':  5\n"
     ]
    },
    {
     "name": "stdout",
     "output_type": "stream",
     "text": [
      "Weekend\n"
     ]
    }
   ],
   "source": [
    "w=int(input(\"Enter a number between'0' and '6': \"))\n",
    "wd=['Monday','Tuesday','Wednesday','Thursday','Friday', 'Saturday', 'Sunday']\n",
    "\n",
    "if w in range(5):\n",
    "    if w==0:\n",
    "        print(wd[0])\n",
    "    elif w==1:\n",
    "        print(wd[1])\n",
    "    elif w==2:\n",
    "        print(wd[2])\n",
    "    elif w==3:\n",
    "        print(wd[3])\n",
    "    else:\n",
    "        print(wd[4])\n",
    "\n",
    "elif w in range(5,7):\n",
    "    print(\"Weekend\")\n",
    "\n",
    "else:\n",
    "    print(\"Please! Follow rules and regulation, repeat!\")"
   ]
  },
  {
   "cell_type": "markdown",
   "id": "b6faec5d-883a-4271-a028-1f6db1021694",
   "metadata": {},
   "source": [
    "**3.Make a program that, given a month number (from 0 to 11), indicates how many days it\n",
    "has (28, 30 or 31), ignoring the leap years.**"
   ]
  },
  {
   "cell_type": "code",
   "execution_count": 34,
   "id": "f7f4f230-0ab5-48ef-baab-dbf835ec2942",
   "metadata": {},
   "outputs": [
    {
     "name": "stdin",
     "output_type": "stream",
     "text": [
      "Enter month number (from 0 to 11):  3\n"
     ]
    },
    {
     "name": "stdout",
     "output_type": "stream",
     "text": [
      "Month is April and has 30 days.\n"
     ]
    }
   ],
   "source": [
    "Mn=int(input(\"Enter month number (from 0 to 11): \"))\n",
    "months=['January', 'February', 'March', 'April', 'May', 'June', 'July', 'August', 'September', 'Octuber', 'November', 'December']\n",
    "dmonth=[31,28,31,30,31,30,31,31,30,31,30,31]\n",
    "if Mn<=11:\n",
    "    if Mn ==0:\n",
    "        print(\"Month is {} and has {} days.\".format(months[0],dmonth[0]) )\n",
    "    elif Mn==1:\n",
    "         print(\"Month is {} and has {} days.\".format(months[1],dmonth[1]) )\n",
    "    elif Mn==2:\n",
    "         print(\"Month is {} and has {} days.\".format(months[2],dmonth[2]) )\n",
    "    elif Mn ==3:\n",
    "         print(\"Month is {} and has {} days.\".format(months[3],dmonth[3]) )\n",
    "    elif Mn ==4:\n",
    "         print(\"Month is {} and has {} days.\".format(months[4],dmonth[4]) )\n",
    "    \n",
    "    elif Mn==5:\n",
    "         print(\"Month is {} and has {} days.\".format(months[5],dmonth[5]) )\n",
    "    elif Mn==6:\n",
    "         print(\"Month is {} and has {} days.\".format(months[6],dmonth[6]) )\n",
    "    elif Mn==7:\n",
    "         print(\"Month is {} and has {} days.\".format(months[7],dmonth[7]) )\n",
    "    elif Mn==8:\n",
    "         print(\"Month is {} and has {} days.\".format(months[8],dmonth[8]) )\n",
    "    elif Mn==9:\n",
    "         print(\"Month is {} and has {} days.\".format(months[9],dmonth[9]) )\n",
    "    elif Mn==10:\n",
    "         print(\"Month is {} and has {} days.\".format(months[10],dmonth[10]) )\n",
    "    else:\n",
    "         print(\"Month is {} and has {} days.\".format(months[11],dmonth[11]) )\n",
    "else:\n",
    "    print(\"Please, Read the conditions, ask to put the number between '0' and '11', so repeat.\")\n"
   ]
  },
  {
   "cell_type": "markdown",
   "id": "fcf0b4a8-4849-4ceb-a1da-f56a39116411",
   "metadata": {},
   "source": [
    "**4.Write two versions of python code that displays your name 3 times. One version with a\n",
    "\"for loop\" and another version with a \"while loop\"**"
   ]
  },
  {
   "cell_type": "code",
   "execution_count": 38,
   "id": "6174dcbc-9308-4188-8040-d0a5fc0f193c",
   "metadata": {},
   "outputs": [
    {
     "name": "stdout",
     "output_type": "stream",
     "text": [
      "niyonkuru\n",
      "niyonkuru\n",
      "niyonkuru\n"
     ]
    }
   ],
   "source": [
    "name='niyonkuru'\n",
    "i=0\n",
    "for i in range(3):\n",
    "    print(name)"
   ]
  },
  {
   "cell_type": "code",
   "execution_count": 45,
   "id": "edbafad0-8fba-43d2-8c20-c3f88060071b",
   "metadata": {},
   "outputs": [
    {
     "name": "stdout",
     "output_type": "stream",
     "text": [
      "niyonkuru\n",
      "niyonkuru\n",
      "niyonkuru\n"
     ]
    }
   ],
   "source": [
    "e=1\n",
    "while e<=3:\n",
    "    print(name)\n",
    "    e+=1"
   ]
  },
  {
   "cell_type": "markdown",
   "id": "926c6757-85cb-4bc1-8e88-76d7dfd72111",
   "metadata": {},
   "source": [
    "**5.Given two numbers a0 and a1, the Fibonacci sequence they generate is constructed from\n",
    "the recursion formula an+1 = an + an−1. Calculate the first 15 terms of a Fibonacci\n",
    "sequence, asking the user the initial values.**"
   ]
  },
  {
   "cell_type": "code",
   "execution_count": 51,
   "id": "4a21bcfb-4607-4d74-8c38-0730c7b81688",
   "metadata": {},
   "outputs": [
    {
     "name": "stdin",
     "output_type": "stream",
     "text": [
      "Enter a0:  0\n",
      "Enter a1:  1\n"
     ]
    },
    {
     "name": "stdout",
     "output_type": "stream",
     "text": [
      "[0, 1, 1, 2, 3, 5, 8, 13, 21, 34, 55, 89, 144, 233, 377]\n"
     ]
    }
   ],
   "source": [
    "a0=int(input(\"Enter a0: \"))\n",
    "a1=int(input(\"Enter a1: \"))\n",
    "lst=[]\n",
    "lst.append(a0)\n",
    "lst.append(a1)\n",
    "n=1\n",
    "while n <=13:\n",
    "    an=lst[n] +lst[n-1]\n",
    "    lst.append(an)\n",
    "    n+=1\n",
    "print(lst)    \n",
    "    "
   ]
  },
  {
   "cell_type": "markdown",
   "id": "9ff20e38-424d-46e1-b56e-a7a826431d0f",
   "metadata": {},
   "source": [
    "**6.Compute the first 30 terms of the sequence defined by 2xn+2 − xn+1 − 6xn = 0 sequence,\n",
    "given any two initial values x0 and x1**"
   ]
  },
  {
   "cell_type": "code",
   "execution_count": 56,
   "id": "b228ebd3-9362-42c5-8e92-3adfa3075579",
   "metadata": {},
   "outputs": [
    {
     "name": "stdin",
     "output_type": "stream",
     "text": [
      "Enter x0:  0\n",
      "Enter x1:  1\n"
     ]
    },
    {
     "name": "stdout",
     "output_type": "stream",
     "text": [
      "[0, 1, 0.5, 3.25, 3.125, 11.3125, 15.03125, 41.453125, 65.8203125, 157.26953125, 276.095703125, 609.8564453125, 1133.21533203125, 2396.177001953125, 4597.7344970703125, 9487.398254394531, 18536.902618408203, 37730.646072387695, 74476.03089141846, 150429.9536628723, 298643.0695056915, 600611.3957414627, 1196234.906387806, 2399951.640418291, 4788680.539372563, 9594195.190941155, 19163139.213588268, 38364155.1796176, 76671495.2305736, 153428213.15413958]\n",
      "30\n"
     ]
    }
   ],
   "source": [
    "x0=int(input(\"Enter x0: \"))\n",
    "x1=int(input(\"Enter x1: \"))\n",
    "lstseq=[]\n",
    "lstseq.append(x0)\n",
    "lstseq.append(x1)\n",
    "m=0\n",
    "while m <28:\n",
    "    xm=((lstseq[m+1] +(6*lstseq[m]))/2)\n",
    "    lstseq.append(xm)\n",
    "    m+=1\n",
    "print(lstseq)\n",
    "print(len(lstseq))\n",
    "    \n",
    "    \n",
    "    \n",
    "    "
   ]
  },
  {
   "cell_type": "markdown",
   "id": "7e5cc1dd-2765-495c-a597-009e9abe5cb1",
   "metadata": {},
   "source": [
    "**7. a)Write python code to determine whether or not a year is a leap year. Be sure you\n",
    "know what a leap year is**"
   ]
  },
  {
   "cell_type": "code",
   "execution_count": 77,
   "id": "aef3ba2b-9f26-4df2-9a42-95b5e6e6a747",
   "metadata": {},
   "outputs": [
    {
     "name": "stdin",
     "output_type": "stream",
     "text": [
      "Enter any year:  2400\n"
     ]
    },
    {
     "name": "stdout",
     "output_type": "stream",
     "text": [
      "2: 2400\n"
     ]
    }
   ],
   "source": [
    "yr=int(input(\"Enter any year: \"))\n",
    "\n",
    "if yr%4==0:\n",
    "    if yr%100!=0:\n",
    "        print(\"1:\",yr) \n",
    "    elif yr%100==0 and yr%400==0:\n",
    "            print(\"2:\",yr)\n",
    "    else:\n",
    "        print(\"3: Not leap year\")\n",
    "\n",
    "else:\n",
    "    print(\"It is not leap year\")\n",
    "        "
   ]
  },
  {
   "cell_type": "markdown",
   "id": "b797caca-3fe5-4be5-a484-1542e7288447",
   "metadata": {},
   "source": [
    "**b)Write the code using only logical operators, i.e. no conditional branching**"
   ]
  },
  {
   "cell_type": "code",
   "execution_count": 84,
   "id": "f519867d-4dce-4d4c-a121-df229093f920",
   "metadata": {},
   "outputs": [
    {
     "name": "stdin",
     "output_type": "stream",
     "text": [
      "Enter a year:  2013\n"
     ]
    },
    {
     "name": "stdout",
     "output_type": "stream",
     "text": [
      "Not a leap year\n"
     ]
    }
   ],
   "source": [
    "year=int(input(\"Enter a year: \"))\n",
    "if (year%4==0 and (year%100!=0 or year%400==0)):\n",
    "    print(\"Leap year\")\n",
    "else:\n",
    "    print(\"Not a leap year\")"
   ]
  },
  {
   "cell_type": "markdown",
   "id": "e0f7d682-dbbf-432b-a084-5669be78add2",
   "metadata": {},
   "source": [
    "8."
   ]
  },
  {
   "cell_type": "markdown",
   "id": "75e23365-486a-4063-922a-669d61c48ae6",
   "metadata": {},
   "source": [
    "**a)Write python code that computes the sum of the square of the first n natural numbers.\n",
    "One version with a \"for loop\" and another version with a \"while loop\".**"
   ]
  },
  {
   "cell_type": "code",
   "execution_count": 86,
   "id": "c4f97a97-1c20-495c-959e-6ce7f727a633",
   "metadata": {},
   "outputs": [
    {
     "name": "stdin",
     "output_type": "stream",
     "text": [
      "Enter any natural number:  4\n"
     ]
    },
    {
     "name": "stdout",
     "output_type": "stream",
     "text": [
      "Sum of squares numbers:  30\n"
     ]
    }
   ],
   "source": [
    "n_num=int(input(\"Enter any natural number: \"))\n",
    "sm_num=0\n",
    "for r in range(1,n_num+1):\n",
    "    sm_num+=r**2\n",
    "print(\"Sum of squares numbers: \",sm_num)\n",
    "         "
   ]
  },
  {
   "cell_type": "markdown",
   "id": "5917cce7-5bd8-4fc2-9fce-8ce468c9dbdc",
   "metadata": {},
   "source": [
    "`while loop`"
   ]
  },
  {
   "cell_type": "code",
   "execution_count": 89,
   "id": "465625d0-db8a-41ad-a014-1f107ede44d9",
   "metadata": {},
   "outputs": [
    {
     "name": "stdin",
     "output_type": "stream",
     "text": [
      "Enter any natural number:  4\n"
     ]
    },
    {
     "name": "stdout",
     "output_type": "stream",
     "text": [
      "Sum of squares numbers:  30\n"
     ]
    }
   ],
   "source": [
    "n_num1=int(input(\"Enter any natural number: \"))\n",
    "q=0\n",
    "sum_num=0\n",
    "while q <=n_num1:\n",
    "    sum_num+=q**2\n",
    "    q+=1\n",
    "print(\"Sum of squares numbers: \",sum_num)\n"
   ]
  },
  {
   "cell_type": "markdown",
   "id": "4555651c-7ed5-4533-bc50-1078cbd74cf3",
   "metadata": {},
   "source": [
    "**b)Write python code that prints, for a natural number M, the smallest natural number\n",
    "n such that 1\n",
    "2 + 22 +· · ·+n\n",
    "2 ≥ M. One version with a \"for loop\" and another version\n",
    "with a \"while loop\".**"
   ]
  },
  {
   "cell_type": "markdown",
   "id": "743d94e2-fc29-46eb-a85a-4609a3222dfc",
   "metadata": {},
   "source": [
    "`for loop`"
   ]
  },
  {
   "cell_type": "code",
   "execution_count": 93,
   "id": "ee7940a2-9113-47e8-a240-dd9779cf600d",
   "metadata": {},
   "outputs": [
    {
     "name": "stdin",
     "output_type": "stream",
     "text": [
      "Enter a natural number M:  3\n"
     ]
    },
    {
     "name": "stdout",
     "output_type": "stream",
     "text": [
      "The smallest n such that the sum of squares is greater than or equal to 3 is: 2\n"
     ]
    }
   ],
   "source": [
    "M = int(input(\"Enter a natural number M: \"))\n",
    "\n",
    "sum_number=0\n",
    "\n",
    "for p in range (1, M+1):\n",
    "    sum_number+= p**2\n",
    "    if sum_number >= M:\n",
    "        print(\"The smallest n such that the sum of squares is greater than or equal to {} is: {}\".format(M,p))\n",
    "        break"
   ]
  },
  {
   "cell_type": "markdown",
   "id": "3a08ce5d-163b-4483-b0e4-665a3ec45313",
   "metadata": {},
   "source": [
    "`while loop`"
   ]
  },
  {
   "cell_type": "code",
   "execution_count": 94,
   "id": "f2fc5f5e-5d88-4c0e-89f1-9c3e25ee9643",
   "metadata": {},
   "outputs": [
    {
     "name": "stdin",
     "output_type": "stream",
     "text": [
      "Enter a natural number M:  3\n"
     ]
    },
    {
     "name": "stdout",
     "output_type": "stream",
     "text": [
      "The smallest n such that the sum of squares is greater than or equal to 3 is: 2\n"
     ]
    }
   ],
   "source": [
    "Max = int(input(\"Enter a natural number M: \"))\n",
    "sm_sum = 0 \n",
    "s = 0       \n",
    "while sm_sum < M:\n",
    "    s += 1\n",
    "    sm_sum += s**2\n",
    "print(\"The smallest n such that the sum of squares is greater than or equal to {} is: {}\".format(M,s))\n"
   ]
  },
  {
   "cell_type": "markdown",
   "id": "072b4664-447e-4124-9236-66de7fa3d54b",
   "metadata": {},
   "source": [
    "**9.a) Write python code that prints all the divisors of a given natural number.**"
   ]
  },
  {
   "cell_type": "code",
   "execution_count": 103,
   "id": "cc6bf6f3-cbda-4e69-b932-7c72af626126",
   "metadata": {},
   "outputs": [
    {
     "name": "stdin",
     "output_type": "stream",
     "text": [
      "Enter a natural number:  12\n"
     ]
    },
    {
     "name": "stdout",
     "output_type": "stream",
     "text": [
      "All divisors of 12 is : [1, 2, 3, 4, 6, 12]\n"
     ]
    }
   ],
   "source": [
    "num_g = int(input(\"Enter a natural number: \"))\n",
    "lst_dv=[]\n",
    "for i in range(1, num_g + 1):\n",
    "    if num_g % i == 0:\n",
    "        lst_dv.append(i)\n",
    "print(\"All divisors of {} is : {}\".format(num_g,lst_dv))"
   ]
  },
  {
   "cell_type": "markdown",
   "id": "7e62595d-3b6d-44fe-bf46-6f58637d213d",
   "metadata": {},
   "source": [
    "**b) Read an integer number input by the user and calculate its prime factors. This will\n",
    "just be some of its divisors.**"
   ]
  },
  {
   "cell_type": "code",
   "execution_count": 107,
   "id": "b0c2d66f-ee3c-4a4c-ac84-cb2c53c0d843",
   "metadata": {},
   "outputs": [
    {
     "name": "stdin",
     "output_type": "stream",
     "text": [
      "Enter a natural number:  6\n"
     ]
    },
    {
     "name": "stdout",
     "output_type": "stream",
     "text": [
      "Prime factors are of 1 is [2, 3] : \n"
     ]
    }
   ],
   "source": [
    "n = int(input(\"Enter a natural number: \"))\n",
    "prm_fctr = []\n",
    "\n",
    "i = 2  \n",
    "while n > 1:\n",
    "    while n % i == 0:  \n",
    "        prm_fctr.append(i)  \n",
    "        n //= i  \n",
    "    i += 1  \n",
    "\n",
    "print(\"Prime factors are of {} is {} : \".format(n,prm_fctr))\n"
   ]
  },
  {
   "cell_type": "markdown",
   "id": "e503a10e-c2b9-4fae-accb-6c10b39476ed",
   "metadata": {},
   "source": [
    "**10. Read an integer number between n 0 and 9 and print its multiplication table up to N\n",
    "where N is another another natural number read by the program.**"
   ]
  },
  {
   "cell_type": "code",
   "execution_count": 109,
   "id": "8a7c1459-c779-4dd4-b336-8cfd923cd5c9",
   "metadata": {},
   "outputs": [
    {
     "name": "stdin",
     "output_type": "stream",
     "text": [
      "Enter an integer between 0 and 9:  3\n",
      "Enter the limit for the multiplication table:  9\n"
     ]
    },
    {
     "name": "stdout",
     "output_type": "stream",
     "text": [
      "3x1=3\n",
      "3x2=6\n",
      "3x3=9\n",
      "3x4=12\n",
      "3x5=15\n",
      "3x6=18\n",
      "3x7=21\n",
      "3x8=24\n",
      "3x9=27\n"
     ]
    }
   ],
   "source": [
    "# Read inputs\n",
    "n = int(input(\"Enter an integer between 0 and 9: \"))\n",
    "N = int(input(\"Enter the limit for the multiplication table: \"))\n",
    "\n",
    "if 0 <= n <= 9:\n",
    "    for i in range(1, N + 1):\n",
    "        print(\"{}x{}={}\".format(n,i,n*i))\n",
    "else:\n",
    "    print(\"Please enter a valid number between 0 and 9.\")"
   ]
  },
  {
   "cell_type": "markdown",
   "id": "69a35a03-be9e-44be-aad9-9639fcdab768",
   "metadata": {},
   "source": [
    "**11. Write a program that prints all the numbers between 0 and 40 that are multiples of 3, 7\n",
    "or 11.**"
   ]
  },
  {
   "cell_type": "code",
   "execution_count": 120,
   "id": "0867e40b-e881-4c17-a8af-3d019cf71bbb",
   "metadata": {},
   "outputs": [
    {
     "name": "stdout",
     "output_type": "stream",
     "text": [
      "0 3 6 7 9 11 12 14 15 18 21 22 24 27 28 30 33 35 36 39 "
     ]
    }
   ],
   "source": [
    "for i in range(41): \n",
    "    if i % 3 == 0 or i % 7 == 0 or i % 11 == 0:\n",
    "        print(i,end=\" \")"
   ]
  },
  {
   "cell_type": "markdown",
   "id": "9635d6a7-64ba-444e-afc0-d208d208b00c",
   "metadata": {},
   "source": [
    "**12. Write python code that prints the floor of a float x. Recall that the floor of a float x is the\n",
    "largest integer value less than or equal to x, i.e. if E[x] is the floor of x, then it satisfies,**\n",
    "\n",
    "    E[x] = 1 + E[x − 1]\n",
    "\n",
    "    PS: On Friday, you will be asked to write a recursive version of the above program."
   ]
  },
  {
   "cell_type": "code",
   "execution_count": 111,
   "id": "4379d2ab-ddd8-413a-aaa2-bd2f75e46cd8",
   "metadata": {},
   "outputs": [
    {
     "name": "stdin",
     "output_type": "stream",
     "text": [
      "Enter a float number:  5.9\n"
     ]
    },
    {
     "name": "stdout",
     "output_type": "stream",
     "text": [
      "The floor of 5.9 is: 5\n"
     ]
    }
   ],
   "source": [
    "import math\n",
    "\n",
    "# Input: a float number\n",
    "x = float(input(\"Enter a float number: \"))\n",
    "\n",
    "# Calculate the floor using the math library\n",
    "floor_value = math.floor(x)\n",
    "\n",
    "# Output the result\n",
    "print(f\"The floor of {x} is: {floor_value}\")\n"
   ]
  },
  {
   "cell_type": "markdown",
   "id": "5399d014-43fc-458e-a20e-c4486cb24d79",
   "metadata": {},
   "source": [
    "**13.Given a point in the plane by its Cartesian coordinates, determine in which quadrant it is\n",
    "(1st, 2nd, 3rd, 4th), if it lies on an axis, or if it is the origin. Do this for several points in\n",
    "the same execution of the program until the user quits.**\n"
   ]
  },
  {
   "cell_type": "code",
   "execution_count": 112,
   "id": "6af9ad18-7ec5-4d0d-b840-239c4c8f721a",
   "metadata": {},
   "outputs": [
    {
     "name": "stdin",
     "output_type": "stream",
     "text": [
      "Enter the coordinates (x, y) or type 'quit' to exit:  2,7\n"
     ]
    },
    {
     "name": "stdout",
     "output_type": "stream",
     "text": [
      "The point is in the 1st quadrant.\n"
     ]
    },
    {
     "name": "stdin",
     "output_type": "stream",
     "text": [
      "Enter the coordinates (x, y) or type 'quit' to exit:  4,9\n"
     ]
    },
    {
     "name": "stdout",
     "output_type": "stream",
     "text": [
      "The point is in the 1st quadrant.\n"
     ]
    },
    {
     "name": "stdin",
     "output_type": "stream",
     "text": [
      "Enter the coordinates (x, y) or type 'quit' to exit:  -3,9\n"
     ]
    },
    {
     "name": "stdout",
     "output_type": "stream",
     "text": [
      "The point is in the 2nd quadrant.\n"
     ]
    },
    {
     "name": "stdin",
     "output_type": "stream",
     "text": [
      "Enter the coordinates (x, y) or type 'quit' to exit:  -1,-1\n"
     ]
    },
    {
     "name": "stdout",
     "output_type": "stream",
     "text": [
      "The point is in the 3rd quadrant.\n"
     ]
    },
    {
     "name": "stdin",
     "output_type": "stream",
     "text": [
      "Enter the coordinates (x, y) or type 'quit' to exit:  3,-1\n"
     ]
    },
    {
     "name": "stdout",
     "output_type": "stream",
     "text": [
      "The point is in the 4th quadrant.\n"
     ]
    },
    {
     "name": "stdin",
     "output_type": "stream",
     "text": [
      "Enter the coordinates (x, y) or type 'quit' to exit:  quit\n"
     ]
    },
    {
     "name": "stdout",
     "output_type": "stream",
     "text": [
      "Exiting the program.\n"
     ]
    }
   ],
   "source": [
    "while True:\n",
    "    user_input = input(\"Enter the coordinates (x, y) or type 'quit' to exit: \")\n",
    "    \n",
    "    if user_input.lower() == 'quit':\n",
    "        print(\"Exiting the program.\")\n",
    "        break\n",
    "    \n",
    "    if ',' in user_input:\n",
    "        parts = user_input.split(',')\n",
    "        \n",
    "        if len(parts) == 2:\n",
    "            x_str = parts[0].strip() \n",
    "            y_str = parts[1].strip()\n",
    "            \n",
    "            if x_str.replace('.', '', 1).replace('-', '', 1).isdigit() and y_str.replace('.', '', 1).replace('-', '', 1).isdigit():\n",
    "                x = float(x_str)\n",
    "                y = float(y_str)\n",
    "                \n",
    "                if x == 0 and y == 0:\n",
    "                    print(\"The point is at the origin.\")\n",
    "                elif x == 0:\n",
    "                    print(\"The point is on the Y-axis.\")\n",
    "                elif y == 0:\n",
    "                    print(\"The point is on the X-axis.\")\n",
    "                elif x > 0 and y > 0:\n",
    "                    print(\"The point is in the 1st quadrant.\")\n",
    "                elif x < 0 and y > 0:\n",
    "                    print(\"The point is in the 2nd quadrant.\")\n",
    "                elif x < 0 and y < 0:\n",
    "                    print(\"The point is in the 3rd quadrant.\")\n",
    "                elif x > 0 and y < 0:\n",
    "                    print(\"The point is in the 4th quadrant.\")\n",
    "            else:\n",
    "                print(\"Wrong input. Please enter valid numbers for x and y.\")\n",
    "        else:\n",
    "            print(\"Wrong input. Please enter the coordinates in the format 'x, y'.\")\n",
    "    else:\n",
    "        print(\"Wrong input. Please enter the coordinates in the format 'x, y' .\")"
   ]
  },
  {
   "cell_type": "markdown",
   "id": "dd36b08e-c21e-4743-82e8-3819fd29e4f5",
   "metadata": {},
   "source": [
    "**14. Ask for an integer number between 0 and 9, denoted x. Once the user has entered a correct\n",
    "number (that is one in the range [0..10)) the program asks for a second integer number\n",
    "between 0 and 255, denoted max. The program continues asking for the number until it\n",
    "is correct (that it is in the range [0..256)). When this is done, show all multiples of x that\n",
    "are between 0 and max. Then, ask the user whether he/she wants to continue; if in the\n",
    "affirmative, ask for another couple of numbers, otherwise finish**"
   ]
  },
  {
   "cell_type": "code",
   "execution_count": 118,
   "id": "9efd8d6f-8b72-460b-950f-3cad79f9f6b4",
   "metadata": {},
   "outputs": [
    {
     "name": "stdin",
     "output_type": "stream",
     "text": [
      "Enter an integer number between 0 and 9:  3\n",
      "Enter an integer number between 0 and 255:  5\n"
     ]
    },
    {
     "name": "stdout",
     "output_type": "stream",
     "text": [
      "Multiples of 3 between 0 and 5:\n",
      "0\n",
      "3\n"
     ]
    },
    {
     "name": "stdin",
     "output_type": "stream",
     "text": [
      "Do you want to continue? (yes/no):  yes\n",
      "Enter an integer number between 0 and 9:  3\n",
      "Enter an integer number between 0 and 255:  7\n"
     ]
    },
    {
     "name": "stdout",
     "output_type": "stream",
     "text": [
      "Multiples of 3 between 0 and 7:\n",
      "0\n",
      "3\n",
      "6\n"
     ]
    },
    {
     "name": "stdin",
     "output_type": "stream",
     "text": [
      "Do you want to continue? (yes/no):  no\n"
     ]
    },
    {
     "name": "stdout",
     "output_type": "stream",
     "text": [
      "Exiting the program.\n"
     ]
    }
   ],
   "source": [
    "while True:\n",
    "    while True:\n",
    "        x = int(input(\"Enter an integer number between 0 and 9: \"))\n",
    "        if 0 <= x < 10:\n",
    "            break\n",
    "        else:\n",
    "            print(\"Wrong input. Please enter a number in the range [0, 9].\")\n",
    "\n",
    "    while True:\n",
    "        max_value = int(input(\"Enter an integer number between 0 and 255: \"))\n",
    "        if 0 <= max_value <= 255:\n",
    "            break\n",
    "        else:\n",
    "            print(\"Wrong input. Please enter a number in the range [0, 255].\")\n",
    "\n",
    "    print(\"Multiples of {} between 0 and {}:\".format(x,max_value))\n",
    "    for multiple in range(0, max_value + 1, x):\n",
    "        print(multiple)\n",
    "\n",
    "    continue_choice = input(\"Do you want to continue? (yes/no): \").strip().lower()\n",
    "    if continue_choice != 'yes':\n",
    "        print(\"Exiting the program.\")\n",
    "        break"
   ]
  },
  {
   "cell_type": "code",
   "execution_count": null,
   "id": "8ed163fb-b39c-4a16-8d8d-396f33951076",
   "metadata": {},
   "outputs": [],
   "source": []
  }
 ],
 "metadata": {
  "kernelspec": {
   "display_name": "Python 3 (ipykernel)",
   "language": "python",
   "name": "python3"
  },
  "language_info": {
   "codemirror_mode": {
    "name": "ipython",
    "version": 3
   },
   "file_extension": ".py",
   "mimetype": "text/x-python",
   "name": "python",
   "nbconvert_exporter": "python",
   "pygments_lexer": "ipython3",
   "version": "3.12.4"
  }
 },
 "nbformat": 4,
 "nbformat_minor": 5
}
